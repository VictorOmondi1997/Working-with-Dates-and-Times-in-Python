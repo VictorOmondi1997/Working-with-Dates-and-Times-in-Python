{
 "cells": [
  {
   "cell_type": "markdown",
   "metadata": {},
   "source": [
    "# Dates and Calendars\n",
    "\n",
    "Hurricanes (also known as cyclones or typhoons) hit the U.S. state of Florida several times per year. To start off we will work with date objects in Python, starting with the dates of every hurricane to hit Florida since 1950. "
   ]
  },
  {
   "cell_type": "markdown",
   "metadata": {},
   "source": [
    "## Dates in Python\n",
    "\n",
    "### Which day of the week?\n",
    "\n",
    "Hurricane Andrew, which hit Florida on August 24, 1992, was one of the costliest and deadliest hurricanes in US history. Which day of the week did it make landfall?"
   ]
  },
  {
   "cell_type": "code",
   "execution_count": 5,
   "metadata": {},
   "outputs": [],
   "source": [
    "import datetime"
   ]
  },
  {
   "cell_type": "code",
   "execution_count": 4,
   "metadata": {},
   "outputs": [
    {
     "data": {
      "text/plain": [
       "0"
      ]
     },
     "execution_count": 4,
     "metadata": {},
     "output_type": "execute_result"
    }
   ],
   "source": [
    "hurricane_andrew = dt.date(1992, 8, 24)\n",
    "hurricane_andrew.weekday()"
   ]
  },
  {
   "cell_type": "markdown",
   "metadata": {},
   "source": [
    "### How many hurricanes come early?\n"
   ]
  },
  {
   "cell_type": "code",
   "execution_count": 6,
   "metadata": {},
   "outputs": [],
   "source": [
    "florida_hurricane_dates = [datetime.date(1950, 8, 31), datetime.date(1950, 9, 5), datetime.date(1950, 10, 18),\n",
    "                           datetime.date(1950, 10, 21), datetime.date(1951, 5, 18), datetime.date(1951, 10, 2),\n",
    "                           datetime.date(1952, 2, 3), datetime.date(1952, 8, 30), datetime.date(1953, 6, 6),\n",
    "                           datetime.date(1953, 8, 29), datetime.date(1953, 9, 20), datetime.date(1953, 9, 26),\n",
    "                           datetime.date(1953, 10, 9), datetime.date(1955, 8, 21), datetime.date(1956, 7, 6),\n",
    "                           datetime.date(1956, 9, 24), datetime.date(1956, 10, 15), datetime.date(1957, 6, 8),\n",
    "                           datetime.date(1957, 9, 8), datetime.date(1958, 9, 4), datetime.date(1959, 6, 18),\n",
    "                           datetime.date(1959, 10, 8), datetime.date(1959, 10, 18), datetime.date(1960, 7, 29),\n",
    "                           datetime.date(1960, 9, 10), datetime.date(1960, 9, 15), datetime.date(1960, 9, 23), \n",
    "                           datetime.date(1961, 9, 11), datetime.date(1961, 10, 29), datetime.date(1962, 8, 26),\n",
    "                           datetime.date(1963, 10, 21), datetime.date(1964, 6, 6), datetime.date(1964, 8, 27),\n",
    "                           datetime.date(1964, 9, 10), datetime.date(1964, 9, 20), datetime.date(1964, 10, 5),\n",
    "                           datetime.date(1964, 10, 14),\n",
    " datetime.date(1965, 6, 15),\n",
    " datetime.date(1965, 9, 8),\n",
    " datetime.date(1965, 9, 30),\n",
    " datetime.date(1966, 6, 9),\n",
    " datetime.date(1966, 6, 30),\n",
    " datetime.date(1966, 7, 24),\n",
    " datetime.date(1966, 10, 4),\n",
    " datetime.date(1968, 6, 4),\n",
    " datetime.date(1968, 6, 18),\n",
    " datetime.date(1968, 7, 5),\n",
    " datetime.date(1968, 8, 10),\n",
    " datetime.date(1968, 8, 28),\n",
    " datetime.date(1968, 9, 26),\n",
    " datetime.date(1968, 10, 19),\n",
    " datetime.date(1969, 6, 9),\n",
    " datetime.date(1969, 8, 18),\n",
    " datetime.date(1969, 8, 29),\n",
    " datetime.date(1969, 9, 7),\n",
    " datetime.date(1969, 9, 21),\n",
    " datetime.date(1969, 10, 1),\n",
    " datetime.date(1969, 10, 2),\n",
    " datetime.date(1969, 10, 21),\n",
    " datetime.date(1970, 5, 25),\n",
    " datetime.date(1970, 7, 22),\n",
    " datetime.date(1970, 8, 6),\n",
    " datetime.date(1970, 9, 13),\n",
    " datetime.date(1970, 9, 27),\n",
    " datetime.date(1971, 8, 10),\n",
    " datetime.date(1971, 8, 13),\n",
    " datetime.date(1971, 8, 29),\n",
    " datetime.date(1971, 9, 1),\n",
    " datetime.date(1971, 9, 16),\n",
    " datetime.date(1971, 10, 13),\n",
    " datetime.date(1972, 5, 28),\n",
    " datetime.date(1972, 6, 19),\n",
    " datetime.date(1972, 9, 5),\n",
    " datetime.date(1973, 6, 7),\n",
    " datetime.date(1973, 6, 23),\n",
    " datetime.date(1973, 9, 3),\n",
    " datetime.date(1973, 9, 25),\n",
    " datetime.date(1974, 6, 25),\n",
    " datetime.date(1974, 9, 8),\n",
    " datetime.date(1974, 9, 27),\n",
    " datetime.date(1974, 10, 7),\n",
    " datetime.date(1975, 6, 27),\n",
    " datetime.date(1975, 7, 29),\n",
    " datetime.date(1975, 9, 23),\n",
    " datetime.date(1975, 10, 1),\n",
    " datetime.date(1975, 10, 16),\n",
    " datetime.date(1976, 5, 23),\n",
    " datetime.date(1976, 6, 11),\n",
    " datetime.date(1976, 8, 19),\n",
    " datetime.date(1976, 9, 13),\n",
    " datetime.date(1977, 8, 27),\n",
    " datetime.date(1977, 9, 5),\n",
    " datetime.date(1978, 6, 22),\n",
    " datetime.date(1979, 7, 11),\n",
    " datetime.date(1979, 9, 3),\n",
    " datetime.date(1979, 9, 12),\n",
    " datetime.date(1979, 9, 24),\n",
    " datetime.date(1980, 8, 7),\n",
    " datetime.date(1980, 11, 18),\n",
    " datetime.date(1981, 8, 17),\n",
    " datetime.date(1982, 6, 18),\n",
    " datetime.date(1982, 9, 11),\n",
    " datetime.date(1983, 8, 28),\n",
    " datetime.date(1984, 9, 9),\n",
    " datetime.date(1984, 9, 27),\n",
    " datetime.date(1984, 10, 26),\n",
    " datetime.date(1985, 7, 23),\n",
    " datetime.date(1985, 8, 15),\n",
    " datetime.date(1985, 10, 10),\n",
    " datetime.date(1985, 11, 21),\n",
    " datetime.date(1986, 6, 26),\n",
    " datetime.date(1986, 8, 13),\n",
    " datetime.date(1987, 8, 14),\n",
    " datetime.date(1987, 9, 7),\n",
    " datetime.date(1987, 10, 12),\n",
    " datetime.date(1987, 11, 4),\n",
    " datetime.date(1988, 5, 30),\n",
    " datetime.date(1988, 8, 4),\n",
    " datetime.date(1988, 8, 13),\n",
    " datetime.date(1988, 8, 23),\n",
    " datetime.date(1988, 9, 4),\n",
    " datetime.date(1988, 9, 10),\n",
    " datetime.date(1988, 9, 13),\n",
    " datetime.date(1988, 11, 23),\n",
    " datetime.date(1989, 9, 22),\n",
    " datetime.date(1990, 5, 25),\n",
    " datetime.date(1990, 10, 9),\n",
    " datetime.date(1990, 10, 12),\n",
    " datetime.date(1991, 6, 30),\n",
    " datetime.date(1991, 10, 16),\n",
    " datetime.date(1992, 6, 25),\n",
    " datetime.date(1992, 8, 24),\n",
    " datetime.date(1992, 9, 29),\n",
    " datetime.date(1993, 6, 1),\n",
    " datetime.date(1994, 7, 3),\n",
    " datetime.date(1994, 8, 15),\n",
    " datetime.date(1994, 10, 2),\n",
    " datetime.date(1994, 11, 16),\n",
    " datetime.date(1995, 6, 5),\n",
    " datetime.date(1995, 7, 27),\n",
    " datetime.date(1995, 8, 2),\n",
    " datetime.date(1995, 8, 23),\n",
    " datetime.date(1995, 10, 4),\n",
    " datetime.date(1996, 7, 11),\n",
    " datetime.date(1996, 9, 2),\n",
    " datetime.date(1996, 10, 8),\n",
    " datetime.date(1996, 10, 18),\n",
    " datetime.date(1997, 7, 19),\n",
    " datetime.date(1998, 9, 3),\n",
    " datetime.date(1998, 9, 20),\n",
    " datetime.date(1998, 9, 25),\n",
    " datetime.date(1998, 11, 5),\n",
    " datetime.date(1999, 8, 29),\n",
    " datetime.date(1999, 9, 15),\n",
    " datetime.date(1999, 9, 21),\n",
    " datetime.date(1999, 10, 15),\n",
    " datetime.date(2000, 8, 23),\n",
    " datetime.date(2000, 9, 9),\n",
    " datetime.date(2000, 9, 18),\n",
    " datetime.date(2000, 9, 22),\n",
    " datetime.date(2000, 10, 3),\n",
    " datetime.date(2001, 6, 12),\n",
    " datetime.date(2001, 8, 6),\n",
    " datetime.date(2001, 9, 14),\n",
    " datetime.date(2001, 11, 5),\n",
    " datetime.date(2002, 7, 13),\n",
    " datetime.date(2002, 8, 4),\n",
    " datetime.date(2002, 9, 4),\n",
    " datetime.date(2002, 9, 14),\n",
    " datetime.date(2002, 9, 26),\n",
    " datetime.date(2002, 10, 3),\n",
    " datetime.date(2002, 10, 11),\n",
    " datetime.date(2003, 4, 20),\n",
    " datetime.date(2003, 6, 30),\n",
    " datetime.date(2003, 7, 25),\n",
    " datetime.date(2003, 8, 14),\n",
    " datetime.date(2003, 8, 30),\n",
    " datetime.date(2003, 9, 6),\n",
    " datetime.date(2003, 9, 13),\n",
    " datetime.date(2004, 8, 12),\n",
    " datetime.date(2004, 8, 13),\n",
    " datetime.date(2004, 9, 5),\n",
    " datetime.date(2004, 9, 13),\n",
    " datetime.date(2004, 9, 16),\n",
    " datetime.date(2004, 10, 10),\n",
    " datetime.date(2005, 6, 11),\n",
    " datetime.date(2005, 7, 6),\n",
    " datetime.date(2005, 7, 10),\n",
    " datetime.date(2005, 8, 25),\n",
    " datetime.date(2005, 9, 12),\n",
    " datetime.date(2005, 9, 20),\n",
    " datetime.date(2005, 10, 5),\n",
    " datetime.date(2005, 10, 24),\n",
    " datetime.date(2006, 6, 13),\n",
    " datetime.date(2006, 8, 30),\n",
    " datetime.date(2007, 5, 9),\n",
    " datetime.date(2007, 6, 2),\n",
    " datetime.date(2007, 8, 23),\n",
    " datetime.date(2007, 9, 8),\n",
    " datetime.date(2007, 9, 13),\n",
    " datetime.date(2007, 9, 22),\n",
    " datetime.date(2007, 10, 31),\n",
    " datetime.date(2007, 12, 13),\n",
    " datetime.date(2008, 7, 16),\n",
    " datetime.date(2008, 7, 22),\n",
    " datetime.date(2008, 8, 18),\n",
    " datetime.date(2008, 8, 31),\n",
    " datetime.date(2008, 9, 2),\n",
    " datetime.date(2009, 8, 16),\n",
    " datetime.date(2009, 8, 21),\n",
    " datetime.date(2009, 11, 9),\n",
    " datetime.date(2010, 6, 30),\n",
    " datetime.date(2010, 7, 23),\n",
    " datetime.date(2010, 8, 10),\n",
    " datetime.date(2010, 8, 31),\n",
    " datetime.date(2010, 9, 29),\n",
    " datetime.date(2011, 7, 18),\n",
    " datetime.date(2011, 8, 25),\n",
    " datetime.date(2011, 9, 3),\n",
    " datetime.date(2011, 10, 28),\n",
    " datetime.date(2011, 11, 9),\n",
    " datetime.date(2012, 5, 28),\n",
    " datetime.date(2012, 6, 23),\n",
    " datetime.date(2012, 8, 25),\n",
    " datetime.date(2012, 10, 25),\n",
    " datetime.date(2015, 8, 30),\n",
    " datetime.date(2015, 10, 1),\n",
    " datetime.date(2016, 6, 6),\n",
    " datetime.date(2016, 9, 1),\n",
    " datetime.date(2016, 9, 14),\n",
    " datetime.date(2016, 10, 7),\n",
    " datetime.date(2017, 6, 21),\n",
    " datetime.date(2017, 7, 31),\n",
    " datetime.date(2017, 9, 10),\n",
    " datetime.date(2017, 10, 29)]"
   ]
  },
  {
   "cell_type": "markdown",
   "metadata": {},
   "source": [
    "Atlantic hurricane season officially begins on June 1. How many hurricanes since 1950 have made landfall in Florida before the official start of hurricane season?"
   ]
  },
  {
   "cell_type": "code",
   "execution_count": 8,
   "metadata": {},
   "outputs": [
    {
     "data": {
      "text/plain": [
       "10"
      ]
     },
     "execution_count": 8,
     "metadata": {},
     "output_type": "execute_result"
    }
   ],
   "source": [
    "early_hurricanes = 0\n",
    "\n",
    "# We loop over dates\n",
    "for hurricane in florida_hurricane_dates:\n",
    "    # Check if the month if before june\n",
    "    if hurricane.month < 6:\n",
    "        early_hurricanes+=1\n",
    "early_hurricanes"
   ]
  },
  {
   "cell_type": "markdown",
   "metadata": {},
   "source": [
    "## Math with dates\n",
    "\n",
    "### Subtracting dates"
   ]
  },
  {
   "cell_type": "code",
   "execution_count": 13,
   "metadata": {},
   "outputs": [
    {
     "data": {
      "text/plain": [
       "218"
      ]
     },
     "execution_count": 13,
     "metadata": {},
     "output_type": "execute_result"
    }
   ],
   "source": [
    "# Create a date object for May 9th, 2007\n",
    "start = datetime.date(2007, 5, 9)\n",
    "\n",
    "# Create a date object for December 13th, 2007\n",
    "end = datetime.date(2007, 12, 13)\n",
    "\n",
    "# Subtract the two dates and print the number of days\n",
    "(end - start).days"
   ]
  },
  {
   "cell_type": "markdown",
   "metadata": {},
   "source": [
    "### Counting events per calendar month\n",
    "\n",
    "Hurricanes can make landfall in Florida throughout the year. As we've already discussed, some months are more hurricane-prone than others. let's see how hurricanes in Florida were distributed across months throughout the year. We've created a dictionary called `hurricanes_each_month` to hold counts and set the initial counts to zero. We will loop over the list of hurricanes, incrementing the correct month in `hurricanes_each_month` as we go, and then print the result."
   ]
  },
  {
   "cell_type": "code",
   "execution_count": 15,
   "metadata": {},
   "outputs": [
    {
     "name": "stdout",
     "output_type": "stream",
     "text": [
      "{1: 0, 2: 1, 3: 0, 4: 1, 5: 8, 6: 32, 7: 21, 8: 49, 9: 70, 10: 43, 11: 9, 12: 1}\n"
     ]
    }
   ],
   "source": [
    "# A dictionary to count hurricanes per calendar month\n",
    "hurricanes_each_month = {1: 0, 2: 0, 3: 0, 4: 0, 5: 0, 6:0,7: 0, 8:0, 9:0, 10:0, 11:0, 12:0}\n",
    "\n",
    "# Loop over all hurricanes\n",
    "for hurricane in florida_hurricane_dates:\n",
    "    # Pull out the month\n",
    "    month = hurricane.month\n",
    "    # Increment the count in your dictionary by one\n",
    "    hurricanes_each_month[month] += 1\n",
    "    \n",
    "print(hurricanes_each_month)"
   ]
  },
  {
   "cell_type": "code",
   "execution_count": null,
   "metadata": {},
   "outputs": [],
   "source": []
  },
  {
   "cell_type": "markdown",
   "metadata": {},
   "source": [
    "# Combining Dates and Times"
   ]
  },
  {
   "cell_type": "markdown",
   "metadata": {},
   "source": [
    "# Time Zones and Daylight Saving"
   ]
  },
  {
   "cell_type": "markdown",
   "metadata": {},
   "source": [
    "# Easy and Powerful: Dates and Times in Pandas\n"
   ]
  },
  {
   "cell_type": "code",
   "execution_count": null,
   "metadata": {},
   "outputs": [],
   "source": []
  }
 ],
 "metadata": {
  "kernelspec": {
   "display_name": "Python 3",
   "language": "python",
   "name": "python3"
  },
  "language_info": {
   "codemirror_mode": {
    "name": "ipython",
    "version": 3
   },
   "file_extension": ".py",
   "mimetype": "text/x-python",
   "name": "python",
   "nbconvert_exporter": "python",
   "pygments_lexer": "ipython3",
   "version": "3.6.5"
  }
 },
 "nbformat": 4,
 "nbformat_minor": 4
}
